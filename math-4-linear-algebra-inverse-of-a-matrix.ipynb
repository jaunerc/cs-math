{
 "cells": [
  {
   "cell_type": "markdown",
   "metadata": {},
   "source": [
    "# Math 4 - Linear Algebra: The Inverse of a Matrix"
   ]
  },
  {
   "cell_type": "code",
   "execution_count": 1,
   "metadata": {},
   "outputs": [],
   "source": [
    "import numpy as np\n",
    "import scipy.linalg"
   ]
  },
  {
   "cell_type": "markdown",
   "metadata": {},
   "source": [
    "his notebook is part of a series of math topics. You can find the previous chapter **Linear Algebra: Gaussian Elimination** [here](https://github.com/jaunerc/cs-math/blob/master/math-3-linear-algebra-gaussian-elimination.ipynb)\n",
    "\n",
    "## 1. The inverse of a matrix\n",
    "Let's start with a simple case. The (multiplicative) inverse of every real number $r$ (except zero) is just $\\frac{1}{r}$ or in a different notation $r^{-1}$. This is because the product of a real number with its inverse must be equal to $1$. So we have $r^{-1} * r = \\frac{1}{r} * r = 1$."
   ]
  },
  {
   "cell_type": "code",
   "execution_count": null,
   "metadata": {},
   "outputs": [],
   "source": []
  }
 ],
 "metadata": {
  "kernelspec": {
   "display_name": "Python 3",
   "language": "python",
   "name": "python3"
  },
  "language_info": {
   "codemirror_mode": {
    "name": "ipython",
    "version": 3
   },
   "file_extension": ".py",
   "mimetype": "text/x-python",
   "name": "python",
   "nbconvert_exporter": "python",
   "pygments_lexer": "ipython3",
   "version": "3.7.4"
  }
 },
 "nbformat": 4,
 "nbformat_minor": 2
}
