{
 "cells": [
  {
   "cell_type": "markdown",
   "metadata": {},
   "source": [
    "# Math 7 - Linear Algebra: The complete solution"
   ]
  },
  {
   "cell_type": "code",
   "execution_count": 1,
   "metadata": {},
   "outputs": [],
   "source": [
    "import numpy as np\n",
    "import scipy.linalg"
   ]
  },
  {
   "cell_type": "markdown",
   "metadata": {},
   "source": [
    "This notebook is part of a series of math topics. You can find the previous chapter **Vector Spaces** [here](https://github.com/jaunerc/cs-math/blob/master/math-6-linear-algebra-vector-spaces.ipynb)"
   ]
  },
  {
   "cell_type": "markdown",
   "metadata": {},
   "source": [
    "## 1. The complete solution of $Ax = b$\n",
    "Now we are able to write down the complete solution of a linear problem in the form $Ax = b$. That means we write the vector $x$ as the sum of the nullspace and particular solutions.\n",
    "\n",
    "$$x = x_p + x_n$$\n",
    "\n",
    "Where $x_p$ is the solution for a general right hand side $Ax = b$ and $x_n$ is the nullspace solution $Ax = 0$.\n",
    "\n",
    "To find a solution for a general right hand side we need to calculate the `rref` form for the augmented matrix which contains a general vector $b$ and the matrix $A$. This is quite simple. Just do all the steps of the rref calculation with variables in the last column. Finally you have the matrix to the right.\n",
    "\n",
    "$$\n",
    "\\begin{bmatrix}\n",
    "1 & 1 & 4 & b_1 \\\\\n",
    "1 & 2 & 4 & b_2 \\\\\n",
    "2 & 3 & 8 & b_3\n",
    "\\end{bmatrix}\n",
    "\\rightarrow\n",
    "\\begin{bmatrix}\n",
    "1 & 0 & 4 & 2b_1 - b_2 \\\\\n",
    "0 & 1 & 0 & b_2 - b_1 \\\\\n",
    "0 & 0 & 0 & b_3 - b_1 - b_2\n",
    "\\end{bmatrix}\n",
    "$$\n",
    "\n",
    "Remember, a solution exists if $b$ lies in the column space of $A$. That is the case if $b_3 - b_1 - b_2 = 0$. We also see that only the third column of $R$ does not contain a pivot element. Thus $x_3$ is a free variable and we choose $0$.\n",
    "\n",
    "$$\n",
    "x_p = \\begin{bmatrix}2b_1 -b_2 \\\\ b_2 - b_1 \\\\ 0\\end{bmatrix}\n",
    "$$\n",
    "\n",
    "We have already calculated the nullspace for $A$ in the last chapter.\n",
    "\n",
    "$$\n",
    "x_n = \\alpha \\begin{bmatrix}-4 \\\\ 0 \\\\ 1\\end{bmatrix}, \\alpha \\in \\mathbb{R}\n",
    "$$\n",
    "\n",
    "The **complete solution** is\n",
    "\n",
    "$$\n",
    "x = x_p + x_n = \\begin{bmatrix}2b_1 -b_2 \\\\ b_2 - b_1 \\\\ 0\\end{bmatrix} + \\alpha \\begin{bmatrix}-4 \\\\ 0 \\\\ 1\\end{bmatrix}, \\alpha \\in \\mathbb{R}\n",
    "$$"
   ]
  },
  {
   "cell_type": "markdown",
   "metadata": {},
   "source": [
    "## 2. Example with Python"
   ]
  },
  {
   "cell_type": "code",
   "execution_count": 4,
   "metadata": {},
   "outputs": [],
   "source": [
    "# Again our rref function\n",
    "\n",
    "def rref(Mat):\n",
    "    # Calculates the row-reduced-echelon-form for the given matrix\n",
    "    # from https://rosettacode.org/wiki/Reduced_row_echelon_form\n",
    "    M = np.copy(Mat)\n",
    "    lead = 0\n",
    "    row_count = len(M)\n",
    "    col_count = len(M[0])\n",
    "    for r in range(row_count):\n",
    "        if col_count <= lead:\n",
    "            return M\n",
    "        i = r\n",
    "        while M[i][lead] == 0:\n",
    "            i += 1\n",
    "            if row_count == i:\n",
    "                i = r\n",
    "                lead += 1\n",
    "                if col_count == lead:\n",
    "                    return M\n",
    "        M[i], M[r] = M[r], M[i]\n",
    "        if not M[r][lead] == 0:\n",
    "            M[r] = M[r] / M[r][lead]\n",
    "        for i in range(row_count):\n",
    "            if not i == r:\n",
    "                lv = M[i][lead]\n",
    "                M[i] = [iv - lv*rv for rv,iv in zip(M[r], M[i])]\n",
    "        lead += 1\n",
    "    return M"
   ]
  },
  {
   "cell_type": "markdown",
   "metadata": {},
   "source": [
    "Let's verify this with some vector $b$ that satisfies $x_p$."
   ]
  },
  {
   "cell_type": "code",
   "execution_count": 5,
   "metadata": {},
   "outputs": [],
   "source": [
    "A = np.array([[1, 1, 4], [1, 2, 4], [2, 3, 8]])\n",
    "R = rref(A)\n",
    "b = np.array([1, 1, 2])"
   ]
  },
  {
   "cell_type": "markdown",
   "metadata": {},
   "source": [
    "The vector $x$ is just \n",
    "$$x = \\begin{bmatrix}2*1 - 1 \\\\ 1 - 1 \\\\ 0\\end{bmatrix} = \\begin{bmatrix}1 \\\\ 0 \\\\ 0\\end{bmatrix}$$"
   ]
  },
  {
   "cell_type": "code",
   "execution_count": 6,
   "metadata": {},
   "outputs": [],
   "source": [
    "x = np.array([1, 0, 0])"
   ]
  },
  {
   "cell_type": "markdown",
   "metadata": {},
   "source": [
    "When we multiply the matrix $A$ with that vector $x$ we should receive the vector $b$ and voilà..."
   ]
  },
  {
   "cell_type": "code",
   "execution_count": 7,
   "metadata": {},
   "outputs": [
    {
     "data": {
      "text/plain": [
       "array([1, 1, 2])"
      ]
     },
     "execution_count": 7,
     "metadata": {},
     "output_type": "execute_result"
    }
   ],
   "source": [
    "np.dot(A, x)"
   ]
  },
  {
   "cell_type": "markdown",
   "metadata": {},
   "source": [
    "## 3. Conclusion\n",
    "The complete solution of the equation $Ax = b$ is the sum of the nullspace solution and the general solution. We need the well known `rref` algorithm again to find these."
   ]
  }
 ],
 "metadata": {
  "kernelspec": {
   "display_name": "Python 3",
   "language": "python",
   "name": "python3"
  },
  "language_info": {
   "codemirror_mode": {
    "name": "ipython",
    "version": 3
   },
   "file_extension": ".py",
   "mimetype": "text/x-python",
   "name": "python",
   "nbconvert_exporter": "python",
   "pygments_lexer": "ipython3",
   "version": "3.7.4"
  }
 },
 "nbformat": 4,
 "nbformat_minor": 2
}
