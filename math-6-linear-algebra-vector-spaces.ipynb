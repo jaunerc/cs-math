{
 "cells": [
  {
   "cell_type": "markdown",
   "metadata": {},
   "source": [
    "# Math 6 - Linear Algebra: Vector Spaces"
   ]
  },
  {
   "cell_type": "code",
   "execution_count": 1,
   "metadata": {},
   "outputs": [],
   "source": [
    "import numpy as np\n",
    "import scipy.linalg"
   ]
  },
  {
   "cell_type": "markdown",
   "metadata": {},
   "source": [
    "This notebook is part of a series of math topics. You can find the previous chapter **Systems of Linear Equations** [here](https://github.com/jaunerc/cs-math/blob/master/math-5-linear-algebra-systems-of-linear-equations.ipynb)\n",
    "\n",
    "## 1. Vector Space\n",
    "By definition a vector space consists of a set $V$, a field $F$ and the two operations *vector addition* and *scalar multiplication*. $V$ holds vector elements and $F$ holds scalars. We only consider *real* vector spaces here. That means the field is always $\\mathbb{R}$.\n",
    "\n",
    "For example the space $\\mathbb{R}^2$ consists all column vectors with 2 components. We need two base vectors to describe this space. These two vectors have to be **lineary independent**. Here is an example\n",
    "\n",
    "$$\n",
    "\\vec{v}_1 = \\begin{bmatrix}1 \\\\ 0\\end{bmatrix}, \\vec{v}_2 = \\begin{bmatrix}0 \\\\ 1\\end{bmatrix}\n",
    "$$\n",
    "\n",
    "But there are different vectors possible as long as they are lineary independent. This is the case, if one is not a multiple of the other (2D case).\n",
    "\n",
    "More general: *Lineary independent vectors only adds up to the zero vector if each vector is multiplied with zero*.\n",
    "\n",
    "$$\\lambda_1\\vec{v}_1 + \\lambda_2\\vec{v}_2 + \\ldots + \\lambda_n\\vec{v}_n = \\vec{0} \\textrm{, where } \\lambda_1 = \\lambda_2 = \\ldots = \\lambda_n = 0$$\n",
    "\n",
    "For example, we see quite simply that the conditions do not apply to the following vectors $\\vec{a}_1$ and $\\vec{a}_2$. Any addition of the vectors results in a zero vector regardless of the values of the scalars. Therefore they are not lineary independent.\n",
    "\n",
    "$$\\vec{a}_1 = \\begin{bmatrix}1 \\\\ 1\\end{bmatrix}, \\vec{a}_2 = \\begin{bmatrix}-1 \\\\ -1\\end{bmatrix}$$\n",
    "\n",
    "**Conclusion:** The $n$ vectors span a vector space $V$. The number of basis vectors is equal to the **dimension** of the vector space.\n",
    "\n",
    "### 1.1 The rank of a matrix\n",
    "The `rref` form gives us further informations about a matrix. The number of pivots is called the **rank** of a matrix. This number tells us how many dimensions the vector space spanned by its columns has.\n",
    "\n",
    "The matrix $A$ in the next section is written in its `rref` form. We have two pivots. That means that the vector space has also two dimensions.\n",
    "\n",
    "$$\n",
    "A = \\begin{bmatrix}1 & 1 & 2 & 4 \\\\ 1 & 2 & 2 & 5 \\\\ 1 & 3 & 2 & 6\\end{bmatrix} \\rightarrow\n",
    "\\textrm{rref}(A) = \\begin{bmatrix}1 & 0 & 2 & 3 \\\\ 0 & 1 & 0 & 1 \\\\ 0 & 0 & 0 & 0\\end{bmatrix}\n",
    "$$"
   ]
  },
  {
   "cell_type": "code",
   "execution_count": 2,
   "metadata": {},
   "outputs": [],
   "source": [
    "# Again our rref function\n",
    "\n",
    "def rref(Mat):\n",
    "    # Calculates the row-reduced-echelon-form for the given matrix\n",
    "    # from https://rosettacode.org/wiki/Reduced_row_echelon_form\n",
    "    M = np.copy(Mat)\n",
    "    lead = 0\n",
    "    row_count = len(M)\n",
    "    col_count = len(M[0])\n",
    "    for r in range(row_count):\n",
    "        if col_count <= lead:\n",
    "            return M\n",
    "        i = r\n",
    "        while M[i][lead] == 0:\n",
    "            i += 1\n",
    "            if row_count == i:\n",
    "                i = r\n",
    "                lead += 1\n",
    "                if col_count == lead:\n",
    "                    return M\n",
    "        M[i], M[r] = M[r], M[i]\n",
    "        if not M[r][lead] == 0:\n",
    "            M[r] = M[r] / M[r][lead]\n",
    "        for i in range(row_count):\n",
    "            if not i == r:\n",
    "                lv = M[i][lead]\n",
    "                M[i] = [iv - lv*rv for rv,iv in zip(M[r], M[i])]\n",
    "        lead += 1\n",
    "    return M"
   ]
  },
  {
   "cell_type": "markdown",
   "metadata": {},
   "source": [
    "### 1.2 The four fundamental subspaces\n",
    "Vector spaces can have subspaces. A subspace $U$ of a vector space $V$ is a set of vectors that is closed under addition and multiplication by a scalar. Each $m \\times n$ matrix $A$ has four fundamental subspaces. These are the **column space** and the **null space** of $A$ and $A^T$. These subspaces tell us something about the solutions of a system of linear equations in the form $Ax = b$. Let's say we have the same matrix as above.\n",
    "\n",
    "$$\n",
    "A = \\begin{bmatrix}1 & 1 & 2 & 4 \\\\ 1 & 2 & 2 & 5 \\\\ 1 & 3 & 2 & 6\\end{bmatrix}\n",
    "$$\n",
    "\n",
    "The **null space** $N(A)$ consists of all solutions $Ax = 0$. Therefore we need to find all $x$ vectors that satisfy the equation. The matrix $A$ has four columns, so $x$ has four components.\n",
    "\n",
    "$$\n",
    "A * \\begin{bmatrix}x_1 \\\\ x_2 \\\\ x_3 \\\\ x_4\\end{bmatrix} = \\begin{bmatrix}0 \\\\ 0 \\\\ 0 \\\\ 0\\end{bmatrix}\n",
    "$$\n",
    "\n",
    "First we need the `rref` form again.\n",
    "\n",
    "$$\n",
    "\\textrm{rref}(A) = \\begin{bmatrix}1 & 0 & 2 & 3 \\\\ 0 & 1 & 0 & 1 \\\\ 0 & 0 & 0 & 0\\end{bmatrix}\n",
    "$$\n",
    "\n",
    "The `rref` form can be written as a system of linear equations. Then we add an equation for each free variable.\n",
    "\n",
    "$$\n",
    "\\begin{array}{rcl}\n",
    "1*x_1 + 0*x_2 + 2*x_3 + 3*x_4 & = & 0  \\\\\n",
    "0*x_1 + 1*x_2 + 0*x_3 + 1*x_4 & = & 0  \\\\\n",
    "x_3 & = & x_3 \\\\\n",
    "x_4 & = & x_4\n",
    "\\end{array}\n",
    "$$\n",
    "\n",
    "The first and second column contains a pivot element and the third and fourth column not. The variables $x_3$ and $x_4$ are therefore referred to as free variables. Next, we solve for each variable in terms of the free variable.\n",
    "\n",
    "$$\n",
    "\\begin{array}{lcl}\n",
    "x_1 & = & -2x_3 & - 3x_4 \\\\\n",
    "x_2 & = & & -x_4 \\\\\n",
    "x_3 & = & x_3 \\\\\n",
    "x_4 & = & & x_4\n",
    "\\end{array}\n",
    "$$\n",
    "\n",
    "We collect them into vectors and write\n",
    "\n",
    "$$\n",
    "\\begin{bmatrix}x_1 \\\\ x_2 \\\\ x_3 \\\\ x_4\\end{bmatrix} = \n",
    "\\begin{bmatrix}-2x_3 \\\\ 0 \\\\ x_3 \\\\ 0\\end{bmatrix} +\n",
    "\\begin{bmatrix}-3x_4 \\\\ -x_4 \\\\ 0 \\\\ x_4\\end{bmatrix} =\n",
    "x_3 \\begin{bmatrix}-2 \\\\ 0 \\\\ 1 \\\\ 0\\end{bmatrix} + \n",
    "x_4 \\begin{bmatrix}-3 \\\\ -1 \\\\ 0 \\\\ 1\\end{bmatrix}\n",
    "$$\n",
    "\n",
    "The **null space** is now defined by each linear combination of the two resulting vectors $s_1 = \\begin{bmatrix}-2 & 0 & 1 & 0\\end{bmatrix}^T$ and $s_2 = \\begin{bmatrix}-3 & -1 & 0 & 1\\end{bmatrix}^T$ \n",
    "\n",
    "Let's check this with Python! We can see that each multiplication of $A$ with $s_1$, $s_2$ results in $0$."
   ]
  },
  {
   "cell_type": "code",
   "execution_count": 3,
   "metadata": {},
   "outputs": [
    {
     "data": {
      "text/plain": [
       "True"
      ]
     },
     "execution_count": 3,
     "metadata": {},
     "output_type": "execute_result"
    }
   ],
   "source": [
    "A = np.array([[1,1,2,4],[1,2,2,5],[1,3,2,6]])\n",
    "s1 = np.array([[-2], [0], [1], [0]])\n",
    "s2 = np.array([[-3], [-1], [0], [1]])\n",
    "np.allclose(0, A.dot(s1), A.dot(s2), A.dot(5 * s1), A.dot(-3 * s2))"
   ]
  },
  {
   "cell_type": "markdown",
   "metadata": {},
   "source": [
    "Besides the null space the **column space** is the other important vector space. It is the set of linear combinations of the columns of a matrix. This space can be described with the `rref` form.\n",
    "\n",
    "$$\n",
    "A = \\begin{bmatrix}1 & 1 & 2 & 4 \\\\ 1 & 2 & 2 & 5 \\\\ 1 & 3 & 2 & 6\\end{bmatrix}, \n",
    "\\textrm{rref}(A) = \\begin{bmatrix}1 & 0 & 2 & 3 \\\\ 0 & 1 & 0 & 1 \\\\ 0 & 0 & 0 & 0\\end{bmatrix}\n",
    "$$\n",
    "\n",
    "The column space $C(A)$ is spanned by the pivot columns $\\begin{bmatrix}1 & 1 & 1\\end{bmatrix}^T$ and $\\begin{bmatrix}1 & 2 & 3\\end{bmatrix}^T$. Each other column is just a linear combination of these two columns.\n",
    "\n",
    "Every right hand side $b$ of $Ax = b$ must lie in the column space.\n",
    "\n",
    "**Dimensionality of subspaces**\n",
    "\n",
    "There is a rule about the dimensionality of the matrix and its subspaces. Suppose that a matrix is in the form $m\\times n$ where $m$ is the number of rows and $n$ is the number of columns.\n",
    "* $dim C(A) = dim C(A^T) = r$, $r$ is the rank\n",
    "* $dim C(A^T) + dim N(A) = n$, the number of columns\n",
    "* $dim C(A) + dim N(A^T) = m$, the number of rows\n",
    "\n",
    "Therefore\n",
    "* $dim C(A) = r$\n",
    "* $dim N(A) = n - r$\n",
    "* $dim N(A^T) = m - r$\n",
    "\n",
    "**Summary**\n",
    "\n",
    "The four fundamental subspaces for a matrix $A$\n",
    "* $C(A)$: Column space of $A$\n",
    "* $C(A^T)$: Row space of $A$ or column space of $A^T$\n",
    "* $N(A)$: Null space of $A$\n",
    "* $N(A^T)$: Left nullspace of $A$ or nullspace of $A$\n",
    "\n",
    "Now let's do an example for a new matrix. $A$ is a 3x3 matrix.\n",
    "\n",
    "$$\n",
    "A = \\begin{bmatrix}1 & 1 & 4 \\\\ 1 & 2 & 4 \\\\ 2 & 3 & 8\\end{bmatrix}\n",
    "$$"
   ]
  },
  {
   "cell_type": "markdown",
   "metadata": {},
   "source": [
    "### 1.3 Full example with Python"
   ]
  },
  {
   "cell_type": "code",
   "execution_count": 5,
   "metadata": {},
   "outputs": [],
   "source": [
    "A = np.array([[1, 1, 4], [1, 2, 4], [2, 3, 8]])\n",
    "R = rref(A)"
   ]
  },
  {
   "cell_type": "markdown",
   "metadata": {},
   "source": [
    "We calculate the nullspace by hand and find one vector. That is what we expect due to the dimensionality rule $n - r = 3 - 2 = 1$. The nullspace is just a **line**."
   ]
  },
  {
   "cell_type": "code",
   "execution_count": 6,
   "metadata": {},
   "outputs": [],
   "source": [
    "n1 = np.array([-4, 0, 1])"
   ]
  },
  {
   "cell_type": "markdown",
   "metadata": {},
   "source": [
    "The column space is spanned by the two pivot columns."
   ]
  },
  {
   "cell_type": "code",
   "execution_count": 7,
   "metadata": {},
   "outputs": [],
   "source": [
    "c1 = A[:,0]\n",
    "c2 = A[:,1]"
   ]
  },
  {
   "cell_type": "markdown",
   "metadata": {},
   "source": [
    "Then we find the null- and columnspace of the transposed matrix $A^T$."
   ]
  },
  {
   "cell_type": "code",
   "execution_count": 9,
   "metadata": {},
   "outputs": [],
   "source": [
    "n1_T = np.array([-1, -1, 1])\n",
    "c1_T = R.T[:,0]\n",
    "c2_T = R.T[:,1]"
   ]
  },
  {
   "cell_type": "markdown",
   "metadata": {},
   "source": [
    "We can verify this by checking the **orthogonality** of the subspaces. The subspaces $C(A^T)$ and $N(A)$ are orthogonal and $C(A)$ an $N(A^T)$ are also orthogonal."
   ]
  },
  {
   "cell_type": "code",
   "execution_count": 12,
   "metadata": {},
   "outputs": [
    {
     "data": {
      "text/plain": [
       "True"
      ]
     },
     "execution_count": 12,
     "metadata": {},
     "output_type": "execute_result"
    }
   ],
   "source": [
    "(np.dot(n1, c1_T) and np.dot(n1_T, c1)) == 0"
   ]
  }
 ],
 "metadata": {
  "kernelspec": {
   "display_name": "Python 3",
   "language": "python",
   "name": "python3"
  },
  "language_info": {
   "codemirror_mode": {
    "name": "ipython",
    "version": 3
   },
   "file_extension": ".py",
   "mimetype": "text/x-python",
   "name": "python",
   "nbconvert_exporter": "python",
   "pygments_lexer": "ipython3",
   "version": "3.7.4"
  }
 },
 "nbformat": 4,
 "nbformat_minor": 2
}
