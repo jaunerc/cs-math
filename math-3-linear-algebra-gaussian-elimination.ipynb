{
 "cells": [
  {
   "cell_type": "markdown",
   "metadata": {},
   "source": [
    "# Math 3 - Linear Algebra: Gaussian Elimination"
   ]
  },
  {
   "cell_type": "code",
   "execution_count": 1,
   "metadata": {},
   "outputs": [],
   "source": [
    "import numpy as np\n",
    "import scipy.linalg"
   ]
  },
  {
   "cell_type": "markdown",
   "metadata": {},
   "source": [
    "This notebook is part of a series of math topics. You can find the previous chapter **Linear Algebra: Matrix Arithmetic** [here](https://github.com/jaunerc/cs-math/blob/master/math-2-linear-algebra-matrix-arithmetic.ipynb)\n",
    "\n",
    "## 1. Gaussian Elimination\n",
    "One great algorithm in linear algebra is Gaussian Elimination. This is a method to solve systems of linear equations, find the inverse or the rank of a matrix and so on. A very useful algorithm that is also part of many school exams ;-)\n",
    "\n",
    "**Row Echelon Form**\n",
    "\n",
    "The basic idea is to modify the rows of a matrix until the matrix is in the so called _row echelon form_. There are two conditions to satisfy\n",
    "* All nonzero rows are above the rows with only zero elements\n",
    "* The first element of every nonzero row (pivot element) has only zero elements left in the row and below in the column\n",
    "\n",
    "Let's do this for the following 3x3 matrix.\n",
    "\n",
    "$$\n",
    "\\begin{bmatrix}1 & 1 & 3 \\\\ 0 & 1 & 2 \\\\ 2 & 1 & 4\\end{bmatrix} \\rightarrow\n",
    "\\begin{bmatrix}1 & 1 & 3 \\\\ 0 & 1 & 2 \\\\ 0 & -1 & -2\\end{bmatrix} \\rightarrow\n",
    "\\begin{bmatrix}1 & 1 & 3 \\\\ 0 & 1 & 2 \\\\ 0 & 0 & 0\\end{bmatrix}\n",
    "$$\n",
    "\n",
    "Steps:\n",
    "1. Multiply `-2` times the `1st` row to the `3rd` row\n",
    "2. Add the `2nd` row to the `3rd` row\n",
    "\n",
    "Finally, we have two pivot elements (the leading nonzero elements in the rows 1 and 2)\n",
    "\n",
    "**Reduced Row Echelon Form**\n",
    "\n",
    "The row echelon form can be further reduced. Two additional conditions has to be satisfied.\n",
    "* All pivot elements are equal to 1\n",
    "* Each pivot column contains only zeros except the pivot element\n",
    "\n",
    "If we reduce the 3x3 matrix in the echelon form we have to subtract the `2nd` row from the `1st` row.\n",
    "\n",
    "$$\n",
    "\\begin{bmatrix}1 & 1 & 3 \\\\ 0 & 1 & 2 \\\\ 0 & 0 & 0\\end{bmatrix} \\rightarrow\n",
    "\\begin{bmatrix}1 & 0 & 1 \\\\ 0 & 1 & 2 \\\\ 0 & 0 & 0\\end{bmatrix}\n",
    "$$\n",
    "\n",
    "Unfortunately, numpy has no function to directly calculate the reduced row echelon form but the following function `rref` does. The code is mainly from https://rosettacode.org/wiki/Reduced_row_echelon_form."
   ]
  },
  {
   "cell_type": "code",
   "execution_count": 2,
   "metadata": {},
   "outputs": [],
   "source": [
    "def rref(Mat):\n",
    "    # Calculates the row-reduced-echelon-form for the given matrix\n",
    "    # from https://rosettacode.org/wiki/Reduced_row_echelon_form\n",
    "    M = np.copy(Mat)\n",
    "    lead = 0\n",
    "    row_count = len(M)\n",
    "    col_count = len(M[0])\n",
    "    for r in range(row_count):\n",
    "        if col_count <= lead:\n",
    "            return M\n",
    "        i = r\n",
    "        while M[i][lead] == 0:\n",
    "            i += 1\n",
    "            if row_count == i:\n",
    "                i = r\n",
    "                lead += 1\n",
    "                if col_count == lead:\n",
    "                    return M\n",
    "        M[i], M[r] = M[r], M[i]\n",
    "        if not M[r][lead] == 0:\n",
    "            M[r] = M[r] / M[r][lead]\n",
    "        for i in range(row_count):\n",
    "            if not i == r:\n",
    "                lv = M[i][lead]\n",
    "                M[i] = [iv - lv*rv for rv,iv in zip(M[r], M[i])]\n",
    "        lead += 1\n",
    "    return M"
   ]
  },
  {
   "cell_type": "markdown",
   "metadata": {},
   "source": [
    "Let's define`A` as the same matrix as in the example above."
   ]
  },
  {
   "cell_type": "code",
   "execution_count": 3,
   "metadata": {},
   "outputs": [
    {
     "data": {
      "text/plain": [
       "array([[1, 1, 3],\n",
       "       [0, 1, 2],\n",
       "       [2, 1, 4]])"
      ]
     },
     "execution_count": 3,
     "metadata": {},
     "output_type": "execute_result"
    }
   ],
   "source": [
    "A = np.array([[1, 1, 3], [0, 1, 2], [2, 1, 4]])\n",
    "A"
   ]
  },
  {
   "cell_type": "markdown",
   "metadata": {},
   "source": [
    "The function `rref` calculates the rref-form of `À`."
   ]
  },
  {
   "cell_type": "code",
   "execution_count": 4,
   "metadata": {},
   "outputs": [
    {
     "data": {
      "text/plain": [
       "array([[1, 0, 1],\n",
       "       [0, 1, 2],\n",
       "       [0, 0, 0]])"
      ]
     },
     "execution_count": 4,
     "metadata": {},
     "output_type": "execute_result"
    }
   ],
   "source": [
    "rref(A)"
   ]
  },
  {
   "cell_type": "markdown",
   "metadata": {},
   "source": [
    "## 2. Conclusion\n",
    "Gaussian Elimination is very useful. The following chapters cover many applications of this algorithm. But it is important to understand how the algorithm works. You should be able to calculate the rref of a matrix step-by-step by hand!\n",
    "\n",
    "**Step-by-step example:**\n",
    "![rref example](./images/rref-example.png)"
   ]
  },
  {
   "cell_type": "code",
   "execution_count": null,
   "metadata": {},
   "outputs": [],
   "source": []
  }
 ],
 "metadata": {
  "kernelspec": {
   "display_name": "Python 3",
   "language": "python",
   "name": "python3"
  },
  "language_info": {
   "codemirror_mode": {
    "name": "ipython",
    "version": 3
   },
   "file_extension": ".py",
   "mimetype": "text/x-python",
   "name": "python",
   "nbconvert_exporter": "python",
   "pygments_lexer": "ipython3",
   "version": "3.7.4"
  }
 },
 "nbformat": 4,
 "nbformat_minor": 2
}
