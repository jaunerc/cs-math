{
 "cells": [
  {
   "cell_type": "markdown",
   "metadata": {},
   "source": [
    "# Linear Algebra\n",
    "This notebook contains some basic stuff for linear algebra. "
   ]
  },
  {
   "cell_type": "code",
   "execution_count": 1,
   "metadata": {},
   "outputs": [],
   "source": [
    "import numpy as np"
   ]
  },
  {
   "cell_type": "markdown",
   "metadata": {},
   "source": [
    "## 1. Matrix Computations\n",
    "We already covered vector computations in the previous notebook. This time we work with matrices. It is possible to add, subtract or multiply matrices as long as the shape matches. For addition and subtraction is an equal shape necessary. The two matrices $A$ and $B$ have both the shape `(5, 4)`. Therefore each $ij$-element in $A$ is added or subtracted with the same $ij$-element in $B$."
   ]
  },
  {
   "cell_type": "code",
   "execution_count": 2,
   "metadata": {},
   "outputs": [
    {
     "data": {
      "text/plain": [
       "array([[1., 1., 1., 1.],\n",
       "       [2., 2., 2., 2.],\n",
       "       [3., 3., 3., 3.],\n",
       "       [4., 4., 4., 4.],\n",
       "       [5., 5., 5., 5.]])"
      ]
     },
     "execution_count": 2,
     "metadata": {},
     "output_type": "execute_result"
    }
   ],
   "source": [
    "A = np.linspace([1, 1, 1, 1], 5, num=5)\n",
    "A"
   ]
  },
  {
   "cell_type": "code",
   "execution_count": 3,
   "metadata": {},
   "outputs": [
    {
     "data": {
      "text/plain": [
       "array([[ 1.,  1.,  1.,  1.],\n",
       "       [ 7.,  7.,  7.,  7.],\n",
       "       [13., 13., 13., 13.],\n",
       "       [19., 19., 19., 19.],\n",
       "       [25., 25., 25., 25.]])"
      ]
     },
     "execution_count": 3,
     "metadata": {},
     "output_type": "execute_result"
    }
   ],
   "source": [
    "B = np.linspace([1, 1, 1, 1], 25, num=5)\n",
    "B"
   ]
  },
  {
   "cell_type": "code",
   "execution_count": 4,
   "metadata": {},
   "outputs": [
    {
     "data": {
      "text/plain": [
       "array([[ 2.,  2.,  2.,  2.],\n",
       "       [ 9.,  9.,  9.,  9.],\n",
       "       [16., 16., 16., 16.],\n",
       "       [23., 23., 23., 23.],\n",
       "       [30., 30., 30., 30.]])"
      ]
     },
     "execution_count": 4,
     "metadata": {},
     "output_type": "execute_result"
    }
   ],
   "source": [
    "A + B"
   ]
  },
  {
   "cell_type": "code",
   "execution_count": 5,
   "metadata": {},
   "outputs": [
    {
     "data": {
      "text/plain": [
       "array([[  0.,   0.,   0.,   0.],\n",
       "       [ -5.,  -5.,  -5.,  -5.],\n",
       "       [-10., -10., -10., -10.],\n",
       "       [-15., -15., -15., -15.],\n",
       "       [-20., -20., -20., -20.]])"
      ]
     },
     "execution_count": 5,
     "metadata": {},
     "output_type": "execute_result"
    }
   ],
   "source": [
    "A - B"
   ]
  },
  {
   "cell_type": "markdown",
   "metadata": {},
   "source": [
    "Multiplying two matrices $A$ and $B$ is only possible, if the following holds.\n",
    "* $A$ is of shape `(n, p)`\n",
    "* $B$ is of shape `(p, m)`\n",
    "\n",
    "The result is a matrix with the shape `(n, m)`. The picture below illustrates this operation."
   ]
  },
  {
   "cell_type": "markdown",
   "metadata": {},
   "source": [
    "![matrix multiplication scheme](images/matrix_multiplication_scheme.png)\n",
    "\n",
    "image:\n",
    "* ref: https://commons.wikimedia.org/wiki/File:Matrix_multiplication_diagram_2.svg\n",
    "* license: [Creative Commons Attribution-Share Alike 3.0 Unported](https://creativecommons.org/licenses/by-sa/3.0/deed.en)"
   ]
  },
  {
   "cell_type": "markdown",
   "metadata": {},
   "source": [
    "That means we cannot multiply the matrices from above. But if we use the `*` operator from python we get a result. This is the same behavior as in the examples with the vectors. The standard arithmetic operations work element-wise."
   ]
  },
  {
   "cell_type": "code",
   "execution_count": 6,
   "metadata": {},
   "outputs": [
    {
     "data": {
      "text/plain": [
       "array([[  1.,   1.,   1.,   1.],\n",
       "       [ 14.,  14.,  14.,  14.],\n",
       "       [ 39.,  39.,  39.,  39.],\n",
       "       [ 76.,  76.,  76.,  76.],\n",
       "       [125., 125., 125., 125.]])"
      ]
     },
     "execution_count": 6,
     "metadata": {},
     "output_type": "execute_result"
    }
   ],
   "source": [
    "A * B"
   ]
  },
  {
   "cell_type": "markdown",
   "metadata": {},
   "source": [
    "Instead we can use the `dot` function from numpy. This time the operation doesn't work and we get a nice error message."
   ]
  },
  {
   "cell_type": "code",
   "execution_count": 7,
   "metadata": {},
   "outputs": [
    {
     "ename": "ValueError",
     "evalue": "shapes (5,4) and (5,4) not aligned: 4 (dim 1) != 5 (dim 0)",
     "output_type": "error",
     "traceback": [
      "\u001b[0;31m---------------------------------------------------------------------------\u001b[0m",
      "\u001b[0;31mValueError\u001b[0m                                Traceback (most recent call last)",
      "\u001b[0;32m<ipython-input-7-1e3a8194ce1e>\u001b[0m in \u001b[0;36m<module>\u001b[0;34m\u001b[0m\n\u001b[0;32m----> 1\u001b[0;31m \u001b[0mA\u001b[0m\u001b[0;34m.\u001b[0m\u001b[0mdot\u001b[0m\u001b[0;34m(\u001b[0m\u001b[0mB\u001b[0m\u001b[0;34m)\u001b[0m\u001b[0;34m\u001b[0m\u001b[0;34m\u001b[0m\u001b[0m\n\u001b[0m",
      "\u001b[0;31mValueError\u001b[0m: shapes (5,4) and (5,4) not aligned: 4 (dim 1) != 5 (dim 0)"
     ]
    }
   ],
   "source": [
    "A.dot(B)"
   ]
  },
  {
   "cell_type": "markdown",
   "metadata": {},
   "source": [
    "Let's define new matrices with the shapes `(10, 3)` for $A$ and `(3, 5)` for $B$. The product is a matrix $C$ with the shape `(10, 5)`."
   ]
  },
  {
   "cell_type": "code",
   "execution_count": 20,
   "metadata": {},
   "outputs": [],
   "source": [
    "A = np.linspace([1, 1, 1], 5, num=10)\n",
    "B = np.linspace([1, 1, 1, 1, 1], 25, num=3)\n",
    "C = A.dot(B)"
   ]
  },
  {
   "cell_type": "code",
   "execution_count": 21,
   "metadata": {},
   "outputs": [
    {
     "data": {
      "text/plain": [
       "(10, 5)"
      ]
     },
     "execution_count": 21,
     "metadata": {},
     "output_type": "execute_result"
    }
   ],
   "source": [
    "C.shape"
   ]
  },
  {
   "cell_type": "markdown",
   "metadata": {},
   "source": [
    "Of course, a matrix can also be multiplied with a **scalar** or a **vector**."
   ]
  },
  {
   "cell_type": "code",
   "execution_count": 22,
   "metadata": {},
   "outputs": [
    {
     "data": {
      "text/plain": [
       "array([[ 5.        ,  5.        ,  5.        ],\n",
       "       [ 7.22222222,  7.22222222,  7.22222222],\n",
       "       [ 9.44444444,  9.44444444,  9.44444444],\n",
       "       [11.66666667, 11.66666667, 11.66666667],\n",
       "       [13.88888889, 13.88888889, 13.88888889],\n",
       "       [16.11111111, 16.11111111, 16.11111111],\n",
       "       [18.33333333, 18.33333333, 18.33333333],\n",
       "       [20.55555556, 20.55555556, 20.55555556],\n",
       "       [22.77777778, 22.77777778, 22.77777778],\n",
       "       [25.        , 25.        , 25.        ]])"
      ]
     },
     "execution_count": 22,
     "metadata": {},
     "output_type": "execute_result"
    }
   ],
   "source": [
    "5 * A"
   ]
  },
  {
   "cell_type": "code",
   "execution_count": 25,
   "metadata": {},
   "outputs": [
    {
     "data": {
      "text/plain": [
       "array([63., 63., 63., 63., 63.])"
      ]
     },
     "execution_count": 25,
     "metadata": {},
     "output_type": "execute_result"
    }
   ],
   "source": [
    "np.arange(3).dot(B) # the result is a vector again with the shape (1, 5)"
   ]
  },
  {
   "cell_type": "markdown",
   "metadata": {},
   "source": [
    "**Note:** The order of the elements are important in every case. The multiplication with matrices is in general **not commutativ** $AB \\neq BA$. We distinguish between left- and right-side multiplication."
   ]
  },
  {
   "cell_type": "markdown",
   "metadata": {},
   "source": [
    "## 2. The inverse of a matrix\n",
    "As seen before, the order is important when we multiply matrices. In addition, an inverse does not always exist. Those calculations are a bit more complicated than with just real numbers. Luckily, numpy has a function `inv` that calculates the inverse for us."
   ]
  },
  {
   "cell_type": "code",
   "execution_count": 26,
   "metadata": {},
   "outputs": [
    {
     "data": {
      "text/plain": [
       "array([[1., 3.],\n",
       "       [6., 6.]])"
      ]
     },
     "execution_count": 26,
     "metadata": {},
     "output_type": "execute_result"
    }
   ],
   "source": [
    "A = np.linspace([1, 3], 6, num=2)\n",
    "A"
   ]
  },
  {
   "cell_type": "code",
   "execution_count": 27,
   "metadata": {},
   "outputs": [
    {
     "data": {
      "text/plain": [
       "array([[-0.5       ,  0.25      ],\n",
       "       [ 0.5       , -0.08333333]])"
      ]
     },
     "execution_count": 27,
     "metadata": {},
     "output_type": "execute_result"
    }
   ],
   "source": [
    "A_inv = np.linalg.inv(A)\n",
    "A_inv"
   ]
  },
  {
   "cell_type": "markdown",
   "metadata": {},
   "source": [
    "We can verify the inverse by just multiply the inverse matrix with the original matrix. The result should be an **identity matrix**. Such a matrix contains only ones on the main diagonal and zeros elsewhere. $E$ is a 2x2 identity matrix.\n",
    "\n",
    "$$E = \\begin{bmatrix}\n",
    "    1 & 0 \\\\\n",
    "    0 & 1\n",
    "    \\end{bmatrix}$$"
   ]
  },
  {
   "cell_type": "code",
   "execution_count": null,
   "metadata": {},
   "outputs": [],
   "source": [
    "A_inv.dot(A)"
   ]
  },
  {
   "cell_type": "markdown",
   "metadata": {},
   "source": [
    "Looks good! The main diagonal has only ones and the other components are almost zero. We have an inaccuracy due to the machine epsilon."
   ]
  },
  {
   "cell_type": "code",
   "execution_count": null,
   "metadata": {},
   "outputs": [],
   "source": [
    "def rref(M):\n",
    "    # Calculates the row-reduced-echelon-form for the given matrix\n",
    "    #\n",
    "    # from https://rosettacode.org/wiki/Reduced_row_echelon_form\n",
    "    lead = 0\n",
    "    row_count = len(M)\n",
    "    col_count = len(M[0])\n",
    "    for r in range(row_count):\n",
    "        if col_count <= lead:\n",
    "            return\n",
    "        i = r\n",
    "        while M[i][lead] == 0:\n",
    "            i += 1\n",
    "            if row_count == i:\n",
    "                i = r\n",
    "                lead += 1\n",
    "                if col_count == lead:\n",
    "                    return\n",
    "        M[i], M[r] = M[r], M[i]\n",
    "        if not M[r][lead] == 0:\n",
    "            M[r] = M[r] / M[r][lead]\n",
    "        for i in range(row_count):\n",
    "            if not i == r:\n",
    "                lv = M[i][lead]\n",
    "                M[i] = [iv - lv*rv for rv,iv in zip(M[r], M[i])]\n",
    "        lead += 1"
   ]
  },
  {
   "cell_type": "code",
   "execution_count": null,
   "metadata": {},
   "outputs": [],
   "source": [
    "A = np.array([[1, 2, 7], [5, 8, 3], [1, 9, 3]])"
   ]
  },
  {
   "cell_type": "code",
   "execution_count": null,
   "metadata": {},
   "outputs": [],
   "source": [
    "A"
   ]
  },
  {
   "cell_type": "code",
   "execution_count": null,
   "metadata": {},
   "outputs": [],
   "source": [
    "rref(A)\n",
    "A"
   ]
  },
  {
   "cell_type": "code",
   "execution_count": null,
   "metadata": {},
   "outputs": [],
   "source": [
    "B = np.concatenate((A, np.eye(3)), axis=1)\n",
    "B"
   ]
  },
  {
   "cell_type": "code",
   "execution_count": null,
   "metadata": {},
   "outputs": [],
   "source": [
    "rref(B)\n",
    "B"
   ]
  },
  {
   "cell_type": "code",
   "execution_count": null,
   "metadata": {},
   "outputs": [],
   "source": [
    "A_inv = B[:,4:6]\n",
    "A_inv"
   ]
  },
  {
   "cell_type": "code",
   "execution_count": null,
   "metadata": {},
   "outputs": [],
   "source": [
    "np.linalg.inv(A)"
   ]
  },
  {
   "cell_type": "code",
   "execution_count": null,
   "metadata": {},
   "outputs": [],
   "source": []
  }
 ],
 "metadata": {
  "kernelspec": {
   "display_name": "Python 3",
   "language": "python",
   "name": "python3"
  },
  "language_info": {
   "codemirror_mode": {
    "name": "ipython",
    "version": 3
   },
   "file_extension": ".py",
   "mimetype": "text/x-python",
   "name": "python",
   "nbconvert_exporter": "python",
   "pygments_lexer": "ipython3",
   "version": "3.7.3"
  }
 },
 "nbformat": 4,
 "nbformat_minor": 2
}
