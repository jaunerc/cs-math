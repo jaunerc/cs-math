{
 "cells": [
  {
   "cell_type": "markdown",
   "metadata": {},
   "source": [
    "# Math 2 - Linear Algebra: Matrix Arithmetic"
   ]
  },
  {
   "cell_type": "code",
   "execution_count": 2,
   "metadata": {},
   "outputs": [],
   "source": [
    "import numpy as np\n",
    "import scipy.linalg"
   ]
  },
  {
   "cell_type": "markdown",
   "metadata": {},
   "source": [
    "This notebook is part of a series of math topics. You can find the previous chapter **Introduction of Numpy** [here](https://github.com/jaunerc/cs-math/blob/master/math-1-introduction-numpy.ipynb)\n",
    "\n",
    "## 1. What is a matrix?\n",
    "This chapter introduces the basic arithmetic operations with matrices. They are different to the \"normal\" arithmetic operations with real numbers. We already covered vector computations in the previous notebook. A **matrix** is like a table where each column and row is represented by a vector. Below is an example of a **5x4-matrix**."
   ]
  },
  {
   "cell_type": "code",
   "execution_count": 3,
   "metadata": {},
   "outputs": [
    {
     "data": {
      "text/plain": [
       "array([[1., 1., 1., 1.],\n",
       "       [2., 2., 2., 2.],\n",
       "       [3., 3., 3., 3.],\n",
       "       [4., 4., 4., 4.],\n",
       "       [5., 5., 5., 5.]])"
      ]
     },
     "execution_count": 3,
     "metadata": {},
     "output_type": "execute_result"
    }
   ],
   "source": [
    "A = np.linspace([1, 1, 1, 1], 5, num=5)\n",
    "A"
   ]
  },
  {
   "cell_type": "markdown",
   "metadata": {},
   "source": [
    "You get each row or column vector from the matrix by its index."
   ]
  },
  {
   "cell_type": "code",
   "execution_count": 4,
   "metadata": {},
   "outputs": [
    {
     "data": {
      "text/plain": [
       "array([1., 1., 1., 1.])"
      ]
     },
     "execution_count": 4,
     "metadata": {},
     "output_type": "execute_result"
    }
   ],
   "source": [
    "A[0] # row vector"
   ]
  },
  {
   "cell_type": "code",
   "execution_count": 5,
   "metadata": {},
   "outputs": [
    {
     "data": {
      "text/plain": [
       "array([1., 2., 3., 4., 5.])"
      ]
     },
     "execution_count": 5,
     "metadata": {},
     "output_type": "execute_result"
    }
   ],
   "source": [
    "A[:,0] # column vector"
   ]
  },
  {
   "cell_type": "markdown",
   "metadata": {},
   "source": [
    "The notation 5x4 (five by four) tells you what the shape of the matrix is. The first integer represents the number of rows and the second integer represents the number of columns."
   ]
  },
  {
   "cell_type": "markdown",
   "metadata": {},
   "source": [
    "## 2. Matrix Arithmetic\n",
    "### 2.1 Addition and subtraction\n",
    "It is possible to add, subtract or multiply matrices as long as the shape matches. For addition and subtraction is an **equal shape necessary**. The two matrices $A$ and $B$ below have both the shape `(5, 4)`. Therefore each $ij$-element in $A$ is added or subtracted with the same $ij$-element in $B$."
   ]
  },
  {
   "cell_type": "code",
   "execution_count": 6,
   "metadata": {},
   "outputs": [],
   "source": [
    "A = np.linspace([1, 1, 1, 1], 5, num=5)\n",
    "B = np.linspace([1, 1, 1, 1], 25, num=5)"
   ]
  },
  {
   "cell_type": "code",
   "execution_count": 7,
   "metadata": {},
   "outputs": [
    {
     "data": {
      "text/plain": [
       "array([[ 2.,  2.,  2.,  2.],\n",
       "       [ 9.,  9.,  9.,  9.],\n",
       "       [16., 16., 16., 16.],\n",
       "       [23., 23., 23., 23.],\n",
       "       [30., 30., 30., 30.]])"
      ]
     },
     "execution_count": 7,
     "metadata": {},
     "output_type": "execute_result"
    }
   ],
   "source": [
    "A + B"
   ]
  },
  {
   "cell_type": "code",
   "execution_count": 8,
   "metadata": {},
   "outputs": [
    {
     "data": {
      "text/plain": [
       "array([[  0.,   0.,   0.,   0.],\n",
       "       [ -5.,  -5.,  -5.,  -5.],\n",
       "       [-10., -10., -10., -10.],\n",
       "       [-15., -15., -15., -15.],\n",
       "       [-20., -20., -20., -20.]])"
      ]
     },
     "execution_count": 8,
     "metadata": {},
     "output_type": "execute_result"
    }
   ],
   "source": [
    "A - B"
   ]
  },
  {
   "cell_type": "markdown",
   "metadata": {},
   "source": [
    "### 2.2 Multiplication\n",
    "First of all the multiplication differs due to the operands. As with the vectors, there are also two different cases. A matrix can be multiplied with a scalar or another matrix (or vector). Multiplying with a scalar is just an element-wise operation. Each element in the matrix is then multiplied with the scalar."
   ]
  },
  {
   "cell_type": "code",
   "execution_count": 9,
   "metadata": {},
   "outputs": [
    {
     "data": {
      "text/plain": [
       "array([[ 2.,  2.,  2.,  2.],\n",
       "       [ 4.,  4.,  4.,  4.],\n",
       "       [ 6.,  6.,  6.,  6.],\n",
       "       [ 8.,  8.,  8.,  8.],\n",
       "       [10., 10., 10., 10.]])"
      ]
     },
     "execution_count": 9,
     "metadata": {},
     "output_type": "execute_result"
    }
   ],
   "source": [
    " 2 * A # Multiplying with a scalar"
   ]
  },
  {
   "cell_type": "markdown",
   "metadata": {},
   "source": [
    "The multiplication with a second matrix is only possible if the following holds ($A$ and $B$ are matrices or vectors).\n",
    "* $A$ is of shape `(n, p)`\n",
    "* $B$ is of shape `(p, m)`\n",
    "\n",
    "The result is a matrix with the shape `(n, m)`. If you have to calculate this by hand you can arrange the matrices as follows.\n",
    "\n",
    "Thus the matrices $A$ and $B$ in this chapter cannot be multiplied with each other. ut if we use the `*` operator from python we get a result. This is the same behavior as in the examples with the vectors. The standard arithmetic operations work **element-wise**."
   ]
  },
  {
   "cell_type": "code",
   "execution_count": 10,
   "metadata": {},
   "outputs": [
    {
     "data": {
      "text/plain": [
       "array([[  1.,   1.,   1.,   1.],\n",
       "       [ 14.,  14.,  14.,  14.],\n",
       "       [ 39.,  39.,  39.,  39.],\n",
       "       [ 76.,  76.,  76.,  76.],\n",
       "       [125., 125., 125., 125.]])"
      ]
     },
     "execution_count": 10,
     "metadata": {},
     "output_type": "execute_result"
    }
   ],
   "source": [
    "A * B"
   ]
  },
  {
   "cell_type": "markdown",
   "metadata": {},
   "source": [
    "For the correct result we have to use the `dot` function. Then we get a nice error message."
   ]
  },
  {
   "cell_type": "code",
   "execution_count": 11,
   "metadata": {},
   "outputs": [
    {
     "ename": "ValueError",
     "evalue": "shapes (5,4) and (5,4) not aligned: 4 (dim 1) != 5 (dim 0)",
     "output_type": "error",
     "traceback": [
      "\u001b[0;31m---------------------------------------------------------------------------\u001b[0m",
      "\u001b[0;31mValueError\u001b[0m                                Traceback (most recent call last)",
      "\u001b[0;32m<ipython-input-11-1e3a8194ce1e>\u001b[0m in \u001b[0;36m<module>\u001b[0;34m\u001b[0m\n\u001b[0;32m----> 1\u001b[0;31m \u001b[0mA\u001b[0m\u001b[0;34m.\u001b[0m\u001b[0mdot\u001b[0m\u001b[0;34m(\u001b[0m\u001b[0mB\u001b[0m\u001b[0;34m)\u001b[0m\u001b[0;34m\u001b[0m\u001b[0;34m\u001b[0m\u001b[0m\n\u001b[0m",
      "\u001b[0;31mValueError\u001b[0m: shapes (5,4) and (5,4) not aligned: 4 (dim 1) != 5 (dim 0)"
     ]
    }
   ],
   "source": [
    "A.dot(B)"
   ]
  },
  {
   "cell_type": "markdown",
   "metadata": {},
   "source": [
    "Let's define new matrices with the shapes `(10, 3)` for $A$ and `(3, 5)` for $B$. The product is a matrix $C$ with the shape `(10, 5)`."
   ]
  },
  {
   "cell_type": "code",
   "execution_count": 12,
   "metadata": {},
   "outputs": [
    {
     "data": {
      "text/plain": [
       "(10, 5)"
      ]
     },
     "execution_count": 12,
     "metadata": {},
     "output_type": "execute_result"
    }
   ],
   "source": [
    "A = np.linspace([1, 1, 1], 5, num=10)\n",
    "B = np.linspace([1, 1, 1, 1, 1], 25, num=3)\n",
    "C = A.dot(B)\n",
    "C.shape"
   ]
  },
  {
   "cell_type": "markdown",
   "metadata": {},
   "source": [
    "## 3. Conclusion\n",
    "The order of the elements are important in every case. The multiplication with matrices is in general **not commutativ** $AB \\neq BA$. We distinguish between left- and right-side multiplication. The operations Addition and Subtraction are easier but require an equal shape for both matrices.\n",
    "\n",
    "If you miss Division, it's because this is a special case for matrices. Unlike real numbers, for matrices an inverse does not always exist. This topic will be addressed in a later chapter."
   ]
  },
  {
   "cell_type": "code",
   "execution_count": null,
   "metadata": {},
   "outputs": [],
   "source": []
  }
 ],
 "metadata": {
  "kernelspec": {
   "display_name": "Python 3",
   "language": "python",
   "name": "python3"
  },
  "language_info": {
   "codemirror_mode": {
    "name": "ipython",
    "version": 3
   },
   "file_extension": ".py",
   "mimetype": "text/x-python",
   "name": "python",
   "nbconvert_exporter": "python",
   "pygments_lexer": "ipython3",
   "version": "3.7.4"
  }
 },
 "nbformat": 4,
 "nbformat_minor": 2
}
