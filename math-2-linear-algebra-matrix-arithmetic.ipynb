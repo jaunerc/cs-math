{
 "cells": [
  {
   "cell_type": "markdown",
   "metadata": {},
   "source": [
    "# Math 2 - Linear Algebra: Matrix Arithmetic"
   ]
  },
  {
   "cell_type": "code",
   "execution_count": 2,
   "metadata": {},
   "outputs": [],
   "source": [
    "import numpy as np\n",
    "import scipy.linalg"
   ]
  },
  {
   "cell_type": "markdown",
   "metadata": {},
   "source": [
    "This notebook is part of a series of math topics. You can find the previous chapter **Introduction of Numpy** [here](https://github.com/jaunerc/cs-math/blob/master/math-1-introduction-numpy.ipynb)\n",
    "\n",
    "## 1. What is a matrix?\n",
    "This chapter introduces the basic arithmetic operations with matrices. They are different to the \"normal\" arithmetic operations with real numbers. We already covered vector computations in the previous notebook. A **matrix** is like a table where each column and row is represented by a vector. Below is an example of a **5x4-matrix**."
   ]
  },
  {
   "cell_type": "code",
   "execution_count": 3,
   "metadata": {},
   "outputs": [
    {
     "data": {
      "text/plain": [
       "array([[1., 1., 1., 1.],\n",
       "       [2., 2., 2., 2.],\n",
       "       [3., 3., 3., 3.],\n",
       "       [4., 4., 4., 4.],\n",
       "       [5., 5., 5., 5.]])"
      ]
     },
     "execution_count": 3,
     "metadata": {},
     "output_type": "execute_result"
    }
   ],
   "source": [
    "A = np.linspace([1, 1, 1, 1], 5, num=5)\n",
    "A"
   ]
  },
  {
   "cell_type": "markdown",
   "metadata": {},
   "source": [
    "You get each row or column vector from the matrix by its index."
   ]
  },
  {
   "cell_type": "code",
   "execution_count": 4,
   "metadata": {},
   "outputs": [
    {
     "data": {
      "text/plain": [
       "array([1., 1., 1., 1.])"
      ]
     },
     "execution_count": 4,
     "metadata": {},
     "output_type": "execute_result"
    }
   ],
   "source": [
    "A[0] # row vector"
   ]
  },
  {
   "cell_type": "code",
   "execution_count": 5,
   "metadata": {},
   "outputs": [
    {
     "data": {
      "text/plain": [
       "array([1., 2., 3., 4., 5.])"
      ]
     },
     "execution_count": 5,
     "metadata": {},
     "output_type": "execute_result"
    }
   ],
   "source": [
    "A[:,0] # column vector"
   ]
  },
  {
   "cell_type": "markdown",
   "metadata": {},
   "source": [
    "The notation 5x4 (five by four) tells you what the shape of the matrix is. The first integer represents the number of rows and the second integer represents the number of columns."
   ]
  },
  {
   "cell_type": "markdown",
   "metadata": {},
   "source": [
    "## 2. Matrix Arithmetic\n",
    "### 2.1 Addition and subtraction\n",
    "It is possible to add, subtract or multiply matrices as long as the shape matches. For addition and subtraction is an **equal shape necessary**. The two matrices $A$ and $B$ below have both the shape `(5, 4)`. Therefore each $ij$-element in $A$ is added or subtracted with the same $ij$-element in $B$."
   ]
  },
  {
   "cell_type": "code",
   "execution_count": 6,
   "metadata": {},
   "outputs": [],
   "source": [
    "A = np.linspace([1, 1, 1, 1], 5, num=5)\n",
    "B = np.linspace([1, 1, 1, 1], 25, num=5)"
   ]
  },
  {
   "cell_type": "code",
   "execution_count": 7,
   "metadata": {},
   "outputs": [
    {
     "data": {
      "text/plain": [
       "array([[ 2.,  2.,  2.,  2.],\n",
       "       [ 9.,  9.,  9.,  9.],\n",
       "       [16., 16., 16., 16.],\n",
       "       [23., 23., 23., 23.],\n",
       "       [30., 30., 30., 30.]])"
      ]
     },
     "execution_count": 7,
     "metadata": {},
     "output_type": "execute_result"
    }
   ],
   "source": [
    "A + B"
   ]
  },
  {
   "cell_type": "code",
   "execution_count": 8,
   "metadata": {},
   "outputs": [
    {
     "data": {
      "text/plain": [
       "array([[  0.,   0.,   0.,   0.],\n",
       "       [ -5.,  -5.,  -5.,  -5.],\n",
       "       [-10., -10., -10., -10.],\n",
       "       [-15., -15., -15., -15.],\n",
       "       [-20., -20., -20., -20.]])"
      ]
     },
     "execution_count": 8,
     "metadata": {},
     "output_type": "execute_result"
    }
   ],
   "source": [
    "A - B"
   ]
  },
  {
   "cell_type": "markdown",
   "metadata": {},
   "source": [
    "### 2.2 Multiplication\n",
    "First of all the multiplication differs due to the operands. As with the vectors, there are also two different cases. A matrix can be multiplied with a scalar or another matrix (or vector). Multiplying with a scalar is just an element-wise operation. Each element in the matrix is then multiplied with the scalar."
   ]
  },
  {
   "cell_type": "code",
   "execution_count": 11,
   "metadata": {},
   "outputs": [
    {
     "data": {
      "text/plain": [
       "array([[ 2.,  2.,  2.,  2.],\n",
       "       [ 4.,  4.,  4.,  4.],\n",
       "       [ 6.,  6.,  6.,  6.],\n",
       "       [ 8.,  8.,  8.,  8.],\n",
       "       [10., 10., 10., 10.]])"
      ]
     },
     "execution_count": 11,
     "metadata": {},
     "output_type": "execute_result"
    }
   ],
   "source": [
    " 2 * A # Multiplying with a scalar"
   ]
  },
  {
   "cell_type": "markdown",
   "metadata": {},
   "source": [
    "The multiplication with a second matrix is only possible if the following holds ($A$ and $B$ are matrices or vectors).\n",
    "* $A$ is of shape `(n, p)`\n",
    "* $B$ is of shape `(p, m)`\n",
    "\n",
    "The result is a matrix with the shape `(n, m)`. If you have to calculate this by hand you can arrange the matrices as follows."
   ]
  },
  {
   "cell_type": "code",
   "execution_count": null,
   "metadata": {},
   "outputs": [],
   "source": []
  }
 ],
 "metadata": {
  "kernelspec": {
   "display_name": "Python 3",
   "language": "python",
   "name": "python3"
  },
  "language_info": {
   "codemirror_mode": {
    "name": "ipython",
    "version": 3
   },
   "file_extension": ".py",
   "mimetype": "text/x-python",
   "name": "python",
   "nbconvert_exporter": "python",
   "pygments_lexer": "ipython3",
   "version": "3.7.4"
  }
 },
 "nbformat": 4,
 "nbformat_minor": 2
}
